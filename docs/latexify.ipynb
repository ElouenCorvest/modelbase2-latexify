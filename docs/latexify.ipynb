{
 "cells": [
  {
   "cell_type": "code",
   "execution_count": 1,
   "metadata": {},
   "outputs": [],
   "source": [
    "from __future__ import annotations\n",
    "\n",
    "from typing import Any\n",
    "\n",
    "from example_models import get_poolman2000\n",
    "\n",
    "\n",
    "def print_annotated(description: str, value: Any) -> None:\n",
    "    print(\n",
    "        description,\n",
    "        value,\n",
    "        sep=\"\\n\",\n",
    "        end=\"\\n\\n\",\n",
    "    )"
   ]
  },
  {
   "cell_type": "markdown",
   "metadata": {},
   "source": [
    "# Exporting Model Info as Latex\n",
    "\n",
    "In the following you will learn how to export your model's ODE system, Reactions and Derived Values from your already built model into a latex format. This allows an easier way to make your model more readable for other users, as you can correctly depict all the vital information in a nicer manner.\n",
    "\n",
    "Right now, these methods will only export the information into a latex format and not actually depict it for you. You will need to do that yourself, either with a Latex Editor (Overleaf, TeXStudio, etc.) or LaTeX generators available online."
   ]
  },
  {
   "cell_type": "code",
   "execution_count": 2,
   "metadata": {},
   "outputs": [],
   "source": [
    "\n",
    "m = get_poolman2000()"
   ]
  },
  {
   "cell_type": "markdown",
   "metadata": {},
   "source": [
    "## ODE System"
   ]
  },
  {
   "cell_type": "code",
   "execution_count": 3,
   "metadata": {},
   "outputs": [
    {
     "data": {
      "text/markdown": [
       "\n",
       "$$\n",
       "\\begin{align}\n",
       "\\frac{\\mathrm{d}PGA}{\\mathrm{d}t} &= 2 \\cdot v1 - v2 - vPGA_out \\\\ \n",
       "\\frac{\\mathrm{d}BPGA}{\\mathrm{d}t} &= v2 - v3 \\\\ \n",
       "\\frac{\\mathrm{d}GAP}{\\mathrm{d}t} &= v3 - v4 - v5 - v7 - v10 - vGAP_out \\\\ \n",
       "\\frac{\\mathrm{d}DHAP}{\\mathrm{d}t} &= v4 - v5 - v8 - vDHAP_out \\\\ \n",
       "\\frac{\\mathrm{d}FBP}{\\mathrm{d}t} &= v5 - v6 \\\\ \n",
       "\\frac{\\mathrm{d}F6P}{\\mathrm{d}t} &= -v7 + v6 - v14 \\\\ \n",
       "\\frac{\\mathrm{d}G6P}{\\mathrm{d}t} &= v14 - v15 \\\\ \n",
       "\\frac{\\mathrm{d}G1P}{\\mathrm{d}t} &= -vSt + v15 \\\\ \n",
       "\\frac{\\mathrm{d}SBP}{\\mathrm{d}t} &= v8 - v9 \\\\ \n",
       "\\frac{\\mathrm{d}S7P}{\\mathrm{d}t} &= -v10 + v9 \\\\ \n",
       "\\frac{\\mathrm{d}E4P}{\\mathrm{d}t} &= v7 - v8 \\\\ \n",
       "\\frac{\\mathrm{d}X5P}{\\mathrm{d}t} &= v7 + v10 - v12 \\\\ \n",
       "\\frac{\\mathrm{d}R5P}{\\mathrm{d}t} &= v10 - v11 \\\\ \n",
       "\\frac{\\mathrm{d}RUBP}{\\mathrm{d}t} &= -v1 + v13 \\\\ \n",
       "\\frac{\\mathrm{d}RU5P}{\\mathrm{d}t} &= -v13 + v12 + v11 \\\\ \n",
       "\\frac{\\mathrm{d}ATP}{\\mathrm{d}t} &= -v13 - v2 + v16 - vSt \\\\\n",
       "\\end{align}\n",
       "$$\n"
      ],
      "text/plain": [
       "<IPython.core.display.Markdown object>"
      ]
     },
     "execution_count": 3,
     "metadata": {},
     "output_type": "execute_result"
    }
   ],
   "source": [
    "from IPython.display import Markdown as md  # noqa: N813\n",
    "\n",
    "res = rf\"\"\"\n",
    "$$\n",
    "\\begin{{align}}\n",
    "{m.get_latex_odes()}\n",
    "\\end{{align}}\n",
    "$$\n",
    "\"\"\"\n",
    "\n",
    "md(res)"
   ]
  },
  {
   "cell_type": "markdown",
   "metadata": {},
   "source": [
    "## Reactions"
   ]
  },
  {
   "cell_type": "code",
   "execution_count": 4,
   "metadata": {},
   "outputs": [
    {
     "data": {
      "text/markdown": [
       "\n",
       "$$\n",
       "\\begin{align}\n",
       "v1 &= \\frac{Vmax_1 \\cdot RUBP}{RUBP + Km_1 \\cdot \\left( 1 + \\frac{PGA}{K_{i|1|1}} + \\frac{FBP}{\\mathrm{ki\\_fbPhosphate_pool}} + \\frac{SBP}{\\mathrm{ki\\_sbPhosphate_pool}} + \\frac{Phosphate_pool}{K_{i|1|4}} + \\frac{NADPH_pool}{K_{i|1|5}} \\right)} \\\\ \n",
       "v2 &= k_rapid_eq2 \\cdot \\left( PGA \\cdot ATP - \\frac{BPGA \\cdot ADP}{q2} \\right) \\\\ \n",
       "v3 &= k_rapid_eq \\cdot \\left( NADPH_pool \\cdot BPGA \\cdot proton_pool_stroma - \\frac{1}{q3} \\cdot GAP \\cdot NADP_pool \\cdot Phosphate_pool \\right) \\\\ \n",
       "v4 &= k_rapid_eq4 \\cdot \\left( GAP - \\frac{DHAP}{q4} \\right) \\\\ \n",
       "v5 &= k_rapid_eq5 \\cdot \\left( GAP \\cdot DHAP - \\frac{FBP}{q5} \\right) \\\\ \n",
       "v6 &= \\frac{Vmax_6 \\cdot FBP}{FBP + Km_6 \\cdot \\left( 1 + \\frac{F6P}{K_{i|6|1}} + \\frac{Phosphate_pool}{K_{i|6|2}} \\right)} \\\\ \n",
       "v7 &= k_rapid_eq7 \\cdot \\left( GAP \\cdot F6P - \\frac{E4P \\cdot X5P}{q7} \\right) \\\\ \n",
       "v8 &= k_rapid_eq8 \\cdot \\left( DHAP \\cdot E4P - \\frac{SBP}{q8} \\right) \\\\ \n",
       "v9 &= \\frac{Vmax_9 \\cdot SBP}{SBP + Km_9 \\cdot \\left( 1 + \\frac{Phosphate_pool}{Ki_9} \\right)} \\\\ \n",
       "v10 &= k_rapid_eq10 \\cdot \\left( GAP \\cdot S7P - \\frac{X5P \\cdot R5P}{q10} \\right) \\\\ \n",
       "v11 &= k_rapid_eq11 \\cdot \\left( R5P - \\frac{RU5P}{q11} \\right) \\\\ \n",
       "v12 &= k_rapid_eq12 \\cdot \\left( X5P - \\frac{RU5P}{q12} \\right) \\\\ \n",
       "v13 &= \\frac{Vmax_13 \\cdot RU5P \\cdot ATP}{\\left( RU5P + Km_13_1 \\cdot \\left( 1 + \\frac{PGA}{Ki_13_1} + \\frac{RUBP}{Ki_13_2} + \\frac{Phosphate_pool}{Ki_13_3} \\right) \\right) \\left( ATP \\cdot \\left( 1 + \\frac{ADP}{Ki_13_4} \\right) + Km_13_2 \\cdot \\left( 1 + \\frac{ADP}{Ki_13_5} \\right) \\right)} \\\\ \n",
       "v14 &= k_rapid_eq14 \\cdot \\left( F6P - \\frac{G6P}{q14} \\right) \\\\ \n",
       "v15 &= k_rapid_eq15 \\cdot \\left( G6P - \\frac{G1P}{q15} \\right) \\\\ \n",
       "v16 &= \\frac{Vmax_16 \\cdot ADP \\cdot Phosphate_pool}{\\left( ADP + Km_16_1 \\right) \\left( Phosphate_pool + Km_16_2 \\right)} \\\\ \n",
       "vPGA_out &= \\frac{Vmax_efflux \\cdot PGA}{N_pool \\cdot K_pga} \\\\ \n",
       "vGAP_out &= \\frac{Vmax_efflux \\cdot GAP}{N_pool \\cdot K_gap} \\\\ \n",
       "vDHAP_out &= \\frac{Vmax_efflux \\cdot DHAP}{N_pool \\cdot K_dhap} \\\\ \n",
       "vSt &= \\frac{Vmax_starch \\cdot G1P \\cdot ATP}{\\left( G1P + Km_starch_1 \\right) \\left( \\left( 1 + \\frac{ADP}{Ki_starch} \\right) \\left( ATP + Km_starch_2 \\right) + \\frac{Km_starch_2 \\cdot Phosphate_pool}{Ka_starch_1 \\cdot PGA + Ka_starch_2 \\cdot F6P + Ka_starch_3 \\cdot FBP} \\right)} \\\\\n",
       "\\end{align}\n",
       "$$\n"
      ],
      "text/plain": [
       "<IPython.core.display.Markdown object>"
      ]
     },
     "execution_count": 4,
     "metadata": {},
     "output_type": "execute_result"
    }
   ],
   "source": [
    "res = rf\"\"\"\n",
    "$$\n",
    "\\begin{{align}}\n",
    "{m.get_latex_reactions(\n",
    "    math_expr={\n",
    "        'Ki_1_1': r'K_{i|1|1}',\n",
    "        'Ki_1_4': r'K_{i|1|4}',\n",
    "        'Ki_1_5': r'K_{i|1|5}',\n",
    "        'Ki_6_1': r'K_{i|6|1}',\n",
    "        'Ki_6_2': r'K_{i|6|2}',\n",
    "    }\n",
    ")}\n",
    "\\end{{align}}\n",
    "$$\n",
    "\"\"\"\n",
    "\n",
    "md(res)"
   ]
  },
  {
   "cell_type": "markdown",
   "metadata": {},
   "source": [
    "## Derived"
   ]
  },
  {
   "cell_type": "code",
   "execution_count": 5,
   "metadata": {},
   "outputs": [
    {
     "data": {
      "text/markdown": [
       "\n",
       "$$\n",
       "\\begin{align}\n",
       "ADP &= AP_total - ATP \\\\ \n",
       "Phosphate_pool &= Phosphate_total - \\left( PGA + 2 BPGA + GAP + DHAP + 2 FBP + F6P + G6P + G1P + 2 SBP + S7P + E4P + X5P + R5P + 2 RUBP + RU5P + ATP \\right) \\\\ \n",
       "N_pool &= 1 + \\left( 1 + \\frac{K_pxt}{Phosphate_pool_ext} \\right) \\left( \\frac{Phosphate_pool}{K_pi} + \\frac{PGA}{K_pga} + \\frac{GAP}{K_gap} + \\frac{DHAP}{K_dhap} \\right) \\\\\n",
       "\\end{align}\n",
       "$$\n"
      ],
      "text/plain": [
       "<IPython.core.display.Markdown object>"
      ]
     },
     "execution_count": 5,
     "metadata": {},
     "output_type": "execute_result"
    }
   ],
   "source": [
    "res = rf\"\"\"\n",
    "$$\n",
    "\\begin{{align}}\n",
    "{m.get_latex_derived()}\n",
    "\\end{{align}}\n",
    "$$\n",
    "\"\"\"\n",
    "\n",
    "md(res)"
   ]
  },
  {
   "cell_type": "markdown",
   "metadata": {},
   "source": [
    "## Custom"
   ]
  },
  {
   "cell_type": "code",
   "execution_count": 6,
   "metadata": {},
   "outputs": [
    {
     "data": {
      "text/markdown": [
       "\n",
       "$$\n",
       "\\begin{align}\n",
       "ADP &= AP_total - ATP \\\\ \n",
       "v12 &= k_rapid_eq12 \\cdot \\left( X5P - \\frac{RU5P}{q12} \\right) \\\\ \n",
       "\\frac{\\mathrm{d}ATP}{\\mathrm{d}t} &= -v13 - v2 + v16 - vSt \\\\\n",
       "\\end{align}\n",
       "$$\n"
      ],
      "text/plain": [
       "<IPython.core.display.Markdown object>"
      ]
     },
     "execution_count": 6,
     "metadata": {},
     "output_type": "execute_result"
    }
   ],
   "source": [
    "res = rf\"\"\"\n",
    "$$\n",
    "\\begin{{align}}\n",
    "{m.get_latex_custom(\n",
    "    names=['ADP', 'v12', 'ATP']\n",
    ")}\n",
    "\\end{{align}}\n",
    "$$\n",
    "\"\"\"\n",
    "\n",
    "md(res)"
   ]
  },
  {
   "cell_type": "markdown",
   "metadata": {},
   "source": [
    "## All"
   ]
  },
  {
   "cell_type": "code",
   "execution_count": 7,
   "metadata": {},
   "outputs": [
    {
     "data": {
      "text/markdown": [
       "\n",
       "### ODE System\n",
       "$$\n",
       "\\begin{align}\n",
       "\\frac{\\mathrm{d}PGA}{\\mathrm{d}t} &= 2 \\cdot v1 - v2 - vPGA_out \\\\ \n",
       "\\frac{\\mathrm{d}BPGA}{\\mathrm{d}t} &= v2 - v3 \\\\ \n",
       "\\frac{\\mathrm{d}GAP}{\\mathrm{d}t} &= v3 - v4 - v5 - v7 - v10 - vGAP_out \\\\ \n",
       "\\frac{\\mathrm{d}DHAP}{\\mathrm{d}t} &= v4 - v5 - v8 - vDHAP_out \\\\ \n",
       "\\frac{\\mathrm{d}FBP}{\\mathrm{d}t} &= v5 - v6 \\\\ \n",
       "\\frac{\\mathrm{d}F6P}{\\mathrm{d}t} &= -v7 + v6 - v14 \\\\ \n",
       "\\frac{\\mathrm{d}G6P}{\\mathrm{d}t} &= v14 - v15 \\\\ \n",
       "\\frac{\\mathrm{d}G1P}{\\mathrm{d}t} &= -vSt + v15 \\\\ \n",
       "\\frac{\\mathrm{d}SBP}{\\mathrm{d}t} &= v8 - v9 \\\\ \n",
       "\\frac{\\mathrm{d}S7P}{\\mathrm{d}t} &= -v10 + v9 \\\\ \n",
       "\\frac{\\mathrm{d}E4P}{\\mathrm{d}t} &= v7 - v8 \\\\ \n",
       "\\frac{\\mathrm{d}X5P}{\\mathrm{d}t} &= v7 + v10 - v12 \\\\ \n",
       "\\frac{\\mathrm{d}R5P}{\\mathrm{d}t} &= v10 - v11 \\\\ \n",
       "\\frac{\\mathrm{d}RUBP}{\\mathrm{d}t} &= -v1 + v13 \\\\ \n",
       "\\frac{\\mathrm{d}RU5P}{\\mathrm{d}t} &= -v13 + v12 + v11 \\\\ \n",
       "\\frac{\\mathrm{d}ATP}{\\mathrm{d}t} &= -v13 - v2 + v16 - vSt \\\\\n",
       "\\end{align}\n",
       "$$\n",
       "### Reactions\n",
       "$$\n",
       "\\begin{align}\n",
       "v1 &= \\frac{Vmax_1 \\cdot RUBP}{RUBP + Km_1 \\cdot \\left( 1 + \\frac{PGA}{K_{i|1|1}} + \\frac{FBP}{\\mathrm{ki\\_fbPhosphate_pool}} + \\frac{SBP}{\\mathrm{ki\\_sbPhosphate_pool}} + \\frac{Phosphate_pool}{K_{i|1|4}} + \\frac{NADPH_pool}{K_{i|1|5}} \\right)} \\\\ \n",
       "v2 &= k_rapid_eq2 \\cdot \\left( PGA \\cdot ATP - \\frac{BPGA \\cdot ADP}{q2} \\right) \\\\ \n",
       "v3 &= k_rapid_eq \\cdot \\left( NADPH_pool \\cdot BPGA \\cdot proton_pool_stroma - \\frac{1}{q3} \\cdot GAP \\cdot NADP_pool \\cdot Phosphate_pool \\right) \\\\ \n",
       "v4 &= k_rapid_eq4 \\cdot \\left( GAP - \\frac{DHAP}{q4} \\right) \\\\ \n",
       "v5 &= k_rapid_eq5 \\cdot \\left( GAP \\cdot DHAP - \\frac{FBP}{q5} \\right) \\\\ \n",
       "v6 &= \\frac{Vmax_6 \\cdot FBP}{FBP + Km_6 \\cdot \\left( 1 + \\frac{F6P}{K_{i|6|1}} + \\frac{Phosphate_pool}{K_{i|6|2}} \\right)} \\\\ \n",
       "v7 &= k_rapid_eq7 \\cdot \\left( GAP \\cdot F6P - \\frac{E4P \\cdot X5P}{q7} \\right) \\\\ \n",
       "v8 &= k_rapid_eq8 \\cdot \\left( DHAP \\cdot E4P - \\frac{SBP}{q8} \\right) \\\\ \n",
       "v9 &= \\frac{Vmax_9 \\cdot SBP}{SBP + Km_9 \\cdot \\left( 1 + \\frac{Phosphate_pool}{Ki_9} \\right)} \\\\ \n",
       "v10 &= k_rapid_eq10 \\cdot \\left( GAP \\cdot S7P - \\frac{X5P \\cdot R5P}{q10} \\right) \\\\ \n",
       "v11 &= k_rapid_eq11 \\cdot \\left( R5P - \\frac{RU5P}{q11} \\right) \\\\ \n",
       "v12 &= k_rapid_eq12 \\cdot \\left( X5P - \\frac{RU5P}{q12} \\right) \\\\ \n",
       "v13 &= \\frac{Vmax_13 \\cdot RU5P \\cdot ATP}{\\left( RU5P + Km_13_1 \\cdot \\left( 1 + \\frac{PGA}{Ki_13_1} + \\frac{RUBP}{Ki_13_2} + \\frac{Phosphate_pool}{Ki_13_3} \\right) \\right) \\left( ATP \\cdot \\left( 1 + \\frac{ADP}{Ki_13_4} \\right) + Km_13_2 \\cdot \\left( 1 + \\frac{ADP}{Ki_13_5} \\right) \\right)} \\\\ \n",
       "v14 &= k_rapid_eq14 \\cdot \\left( F6P - \\frac{G6P}{q14} \\right) \\\\ \n",
       "v15 &= k_rapid_eq15 \\cdot \\left( G6P - \\frac{G1P}{q15} \\right) \\\\ \n",
       "v16 &= \\frac{Vmax_16 \\cdot ADP \\cdot Phosphate_pool}{\\left( ADP + Km_16_1 \\right) \\left( Phosphate_pool + Km_16_2 \\right)} \\\\ \n",
       "vPGA_out &= \\frac{Vmax_efflux \\cdot PGA}{N_pool \\cdot K_pga} \\\\ \n",
       "vGAP_out &= \\frac{Vmax_efflux \\cdot GAP}{N_pool \\cdot K_gap} \\\\ \n",
       "vDHAP_out &= \\frac{Vmax_efflux \\cdot DHAP}{N_pool \\cdot K_dhap} \\\\ \n",
       "vSt &= \\frac{Vmax_starch \\cdot G1P \\cdot ATP}{\\left( G1P + Km_starch_1 \\right) \\left( \\left( 1 + \\frac{ADP}{Ki_starch} \\right) \\left( ATP + Km_starch_2 \\right) + \\frac{Km_starch_2 \\cdot Phosphate_pool}{Ka_starch_1 \\cdot PGA + Ka_starch_2 \\cdot F6P + Ka_starch_3 \\cdot FBP} \\right)} \\\\\n",
       "\\end{align}\n",
       "$$\n",
       "### Derived\n",
       "$$\n",
       "\\begin{align}\n",
       "ADP &= AP_total - ATP \\\\ \n",
       "Phosphate_pool &= Phosphate_total - \\left( PGA + 2 BPGA + GAP + DHAP + 2 FBP + F6P + G6P + G1P + 2 SBP + S7P + E4P + X5P + R5P + 2 RUBP + RU5P + ATP \\right) \\\\ \n",
       "N_pool &= 1 + \\left( 1 + \\frac{K_pxt}{Phosphate_pool_ext} \\right) \\left( \\frac{Phosphate_pool}{K_pi} + \\frac{PGA}{K_pga} + \\frac{GAP}{K_gap} + \\frac{DHAP}{K_dhap} \\right) \\\\\n",
       "\\end{align}\n",
       "$$\n"
      ],
      "text/plain": [
       "<IPython.core.display.Markdown object>"
      ]
     },
     "execution_count": 7,
     "metadata": {},
     "output_type": "execute_result"
    }
   ],
   "source": [
    "odes, reacs, derived = m.get_latex_all(\n",
    "    math_expr={\n",
    "        \"Ki_1_1\": r\"K_{i|1|1}\",\n",
    "        \"Ki_1_4\": r\"K_{i|1|4}\",\n",
    "        \"Ki_1_5\": r\"K_{i|1|5}\",\n",
    "        \"Ki_6_1\": r\"K_{i|6|1}\",\n",
    "        \"Ki_6_2\": r\"K_{i|6|2}\",\n",
    "    }\n",
    ")\n",
    "\n",
    "res = rf\"\"\"\n",
    "### ODE System\n",
    "$$\n",
    "\\begin{{align}}\n",
    "{odes}\n",
    "\\end{{align}}\n",
    "$$\n",
    "### Reactions\n",
    "$$\n",
    "\\begin{{align}}\n",
    "{reacs}\n",
    "\\end{{align}}\n",
    "$$\n",
    "### Derived\n",
    "$$\n",
    "\\begin{{align}}\n",
    "{derived}\n",
    "\\end{{align}}\n",
    "$$\n",
    "\"\"\"\n",
    "\n",
    "md(res)"
   ]
  },
  {
   "cell_type": "markdown",
   "metadata": {},
   "source": [
    "## Internal Math Expression Storage"
   ]
  },
  {
   "cell_type": "code",
   "execution_count": 8,
   "metadata": {},
   "outputs": [
    {
     "data": {
      "text/markdown": [
       "\n",
       "### Before:\n",
       "$$\n",
       "\\begin{align}\n",
       "vGAP_out &= \\frac{Vmax_efflux \\cdot GAP}{N_pool \\cdot K_gap} \\\\ \n",
       "N_pool &= 1 + \\left( 1 + \\frac{K_pxt}{Phosphate_pool_ext} \\right) \\left( \\frac{Phosphate_pool}{K_pi} + \\frac{PGA}{K_pga} + \\frac{GAP}{K_gap} + \\frac{DHAP}{K_dhap} \\right) \\\\\n",
       "\\end{align}\n",
       "$$\n",
       "\n",
       "### After:\n",
       "$$\n",
       "\\begin{align}\n",
       "v_\\mathrm{GAP|out} &= \\frac{V_\\mathrm{max|efflux} \\cdot \\mathrm{GAP}}{\\mathrm{N}_\\mathrm{pool} \\cdot K_\\mathrm{GAP}} \\\\ \n",
       "\\mathrm{N}_\\mathrm{pool} &= 1 + \\left( 1 + \\frac{K_\\mathrm{pxt}}{\\mathrm{Phosphate}_\\mathrm{pool|ext}} \\right) \\left( \\frac{\\mathrm{Phosphate}_\\mathrm{pool}}{K_\\mathrm{pi}} + \\frac{\\mathrm{PGA}}{K_\\mathrm{PGA}} + \\frac{\\mathrm{GAP}}{K_\\mathrm{GAP}} + \\frac{\\mathrm{DHAP}}{K_\\mathrm{DHAP}} \\right) \\\\\n",
       "\\end{align}\n",
       "$$\n",
       "\n",
       "### Even more After:\n",
       "$$\n",
       "\\begin{align}\n",
       "v_\\mathrm{GAP|out} &= \\frac{V_\\mathrm{max|efflux} \\cdot \\mathrm{GAP}}{\\mathrm{N}_\\mathrm{pool} \\cdot \\color{red} \\mathrm{Changed}} \\\\ \n",
       "\\mathrm{N}_\\mathrm{pool} &= 1 + \\left( 1 + \\frac{K_\\mathrm{pxt}}{\\mathrm{Phosphate}_\\mathrm{pool|ext}} \\right) \\left( \\frac{\\mathrm{Phosphate}_\\mathrm{pool}}{K_\\mathrm{pi}} + \\frac{\\mathrm{PGA}}{K_\\mathrm{PGA}} + \\frac{\\mathrm{GAP}}{\\color{red} \\mathrm{Changed}} + \\frac{\\mathrm{DHAP}}{K_\\mathrm{DHAP}} \\right) \\\\\n",
       "\\end{align}\n",
       "$$\n"
      ],
      "text/plain": [
       "<IPython.core.display.Markdown object>"
      ]
     },
     "execution_count": 8,
     "metadata": {},
     "output_type": "execute_result"
    }
   ],
   "source": [
    "m = get_poolman2000()\n",
    "\n",
    "res = rf\"\"\"\n",
    "### Before:\n",
    "$$\n",
    "\\begin{{align}}\n",
    "{m.get_latex_custom(\n",
    "    names=['vGAP_out', 'N_pool']\n",
    ")}\n",
    "\\end{{align}}\n",
    "$$\n",
    "\"\"\"\n",
    "\n",
    "# Use internal math of reaction and derived\n",
    "m.update_reaction(\n",
    "    'vGAP_out',\n",
    "    math=r'v_\\mathrm{GAP|out}'\n",
    ")\n",
    "\n",
    "m.update_derived(\n",
    "    'N_pool',\n",
    "    math=r'\\mathrm{N}_\\mathrm{pool}'\n",
    ")\n",
    "\n",
    "# Use math expression dictionary of model for variables and parameters\n",
    "m.insert_math_exprs(\n",
    "    {\n",
    "        'Vmax_efflux': r'V_\\mathrm{max|efflux}',\n",
    "        'GAP': r'\\mathrm{GAP}',\n",
    "        'K_gap': r'K_\\mathrm{GAP}',\n",
    "        'Phosphate_pool': r'\\mathrm{Phosphate}_\\mathrm{pool}',\n",
    "        'K_pxt': r'K_\\mathrm{pxt}',\n",
    "        'Phosphate_pool_ext': r'\\mathrm{Phosphate}_\\mathrm{pool|ext}',\n",
    "        'K_pi': r'K_\\mathrm{pi}',\n",
    "        'PGA': r'\\mathrm{PGA}',\n",
    "        'K_pga': r'K_\\mathrm{PGA}',\n",
    "        'DHAP': r'\\mathrm{DHAP}',\n",
    "        'K_dhap': r'K_\\mathrm{DHAP}',\n",
    "    }\n",
    ")\n",
    "\n",
    "res += rf\"\"\"\n",
    "### After:\n",
    "$$\n",
    "\\begin{{align}}\n",
    "{m.get_latex_custom(\n",
    "    names=['vGAP_out', 'N_pool']\n",
    ")}\n",
    "\\end{{align}}\n",
    "$$\n",
    "\"\"\"\n",
    "\n",
    "# The math expressions supplied to the function overwrite the internal expressions\n",
    "res += rf\"\"\"\n",
    "### Even more After:\n",
    "$$\n",
    "\\begin{{align}}\n",
    "{m.get_latex_custom(\n",
    "    names=['vGAP_out', 'N_pool'],\n",
    "    math_expr={'K_gap': r\"\\color{red} \\mathrm{Changed}\"}\n",
    ")}\n",
    "\\end{{align}}\n",
    "$$\n",
    "\"\"\"\n",
    "\n",
    "md(res)\n"
   ]
  },
  {
   "cell_type": "markdown",
   "metadata": {},
   "source": [
    "## Ideal Model Creation Pipeline\n",
    "\n",
    "Let us recreate the following linear chemical network in an ideal *latexify* pipeline\n",
    "\n",
    "$$ \\Large \\varnothing \\xrightarrow{v_0} \\mathrm{S} \\xrightarrow{v_1} p_\\mathrm{stoi}\\ \\mathrm{P} \\xrightarrow{v_2} \\varnothing $$\n",
    "\n",
    "$$\\begin{align*}\n",
    "    v_0 &= k_{\\mathrm{in}} \\\\\n",
    "    v_1 &= k_1 \\cdot \\mathrm{S} \\\\\n",
    "    v_2 &= k_{\\mathrm{out}} \\cdot \\mathrm{P} \\\\\n",
    "\\end{align*}$$\n",
    "\n",
    "Where $p_\\mathrm{stoi}$ is a stochiometric factor that we want to change dynamically and $\\mathrm{SP_{tot}}$ is the sum of $\\mathrm{S}$ and $\\mathrm{P}$\n"
   ]
  },
  {
   "cell_type": "code",
   "execution_count": 12,
   "metadata": {},
   "outputs": [
    {
     "data": {
      "text/markdown": [
       "\n",
       "### ODE System\n",
       "$$\n",
       "\\begin{align}\n",
       "\\frac{\\mathrm{d}\\mathrm{S}}{\\mathrm{d}t} &= v_0 - v_1 \\\\ \n",
       "\\frac{\\mathrm{d}\\mathrm{P}}{\\mathrm{d}t} &= p_\\mathrm{stoi} \\cdot v_1 - v_2 \\\\\n",
       "\\end{align}\n",
       "$$\n",
       "### Reactions\n",
       "$$\n",
       "\\begin{align}\n",
       "v_0 &= k_\\mathrm{in} \\\\ \n",
       "v_1 &= k_1 \\mathrm{S} \\\\ \n",
       "v_2 &= k_\\mathrm{out} \\mathrm{P} \\\\\n",
       "\\end{align}\n",
       "$$\n",
       "### Derived\n",
       "$$\n",
       "\\begin{align}\n",
       "\\mathrm{SP_{tot}} &= \\mathrm{S} + \\mathrm{P} \\\\\n",
       "\\end{align}\n",
       "$$\n"
      ],
      "text/plain": [
       "<IPython.core.display.Markdown object>"
      ]
     },
     "execution_count": 12,
     "metadata": {},
     "output_type": "execute_result"
    }
   ],
   "source": [
    "from modelbase2 import Model, Derived\n",
    "\n",
    "def constant(k: float) -> float:\n",
    "    return k\n",
    "\n",
    "\n",
    "def proportional(k: float, s: float) -> float:\n",
    "    return k * s\n",
    "\n",
    "\n",
    "def sum_func(x: float, y: float) -> float:\n",
    "    return x + y\n",
    "\n",
    "def ideal_pipe():\n",
    "    # Initiate Model\n",
    "    m = Model()\n",
    "\n",
    "    # Add parameters\n",
    "    m.add_parameters({\"k_in\": 1, \"k_1\": 1, \"k_out\": 1, \"p_stoi\": 2})\n",
    "\n",
    "    # Add variables\n",
    "    m.add_variables({\"S\": 0, \"P\": 0})\n",
    "\n",
    "    # Associate Parameters and Variables to a math expression. \n",
    "    # Parameter k_1 does not need to be included as it already is the correct expression\n",
    "    m.insert_math_exprs({\n",
    "        \"k_in\": r\"k_\\mathrm{in}\",\n",
    "        \"k_out\": r\"k_\\mathrm{out}\",\n",
    "        \"p_stoi\": r\"p_\\mathrm{stoi}\",\n",
    "        \"S\": r\"\\mathrm{S}\",\n",
    "        \"P\": r\"\\mathrm{P}\"\n",
    "    })\n",
    "\n",
    "    # Add reactions with the math expressions already provided\n",
    "    m.add_reaction(\n",
    "        \"v0\",\n",
    "        fn=constant,\n",
    "        args=[\"k_in\"],\n",
    "        stoichiometry={\"S\": 1},  # produces one S#\n",
    "        math=r\"v_0\"\n",
    "    )\n",
    "    m.add_reaction(\n",
    "        \"v1\",\n",
    "        fn=proportional,\n",
    "        args=[\"k_1\", \"S\"],  # note that the order needs to match `proportional`\n",
    "        stoichiometry={\"S\": -1, \"P\": Derived(constant, args=[\"p_stoi\"], math=r\"p_\\mathrm{stoi}\")},  # consumes one S and produces one P\n",
    "        math=r\"v_1\"\n",
    "    )\n",
    "    m.add_reaction(\n",
    "        \"v2\",\n",
    "        fn=proportional,\n",
    "        args=[\"k_out\", \"P\"],  # note that the order needs to match `proportional`\n",
    "        stoichiometry={\"P\": -1},  # exports one P\n",
    "        math=r\"v_2\"\n",
    "    )\n",
    "\n",
    "    m.add_derived(\n",
    "        \"SP_tot\",\n",
    "        fn=sum_func,\n",
    "        args=[\"S\", \"P\"],\n",
    "        math=r\"\\mathrm{SP_{tot}}\"\n",
    "    )\n",
    "\n",
    "    return m\n",
    "\n",
    "odes, reacs, derived = ideal_pipe().get_latex_all()\n",
    "\n",
    "res = rf\"\"\"\n",
    "### ODE System\n",
    "$$\n",
    "\\begin{{align}}\n",
    "{odes}\n",
    "\\end{{align}}\n",
    "$$\n",
    "### Reactions\n",
    "$$\n",
    "\\begin{{align}}\n",
    "{reacs}\n",
    "\\end{{align}}\n",
    "$$\n",
    "### Derived\n",
    "$$\n",
    "\\begin{{align}}\n",
    "{derived}\n",
    "\\end{{align}}\n",
    "$$\n",
    "\"\"\"\n",
    "\n",
    "md(res)"
   ]
  }
 ],
 "metadata": {
  "kernelspec": {
   "display_name": "default",
   "language": "python",
   "name": "python3"
  },
  "language_info": {
   "codemirror_mode": {
    "name": "ipython",
    "version": 3
   },
   "file_extension": ".py",
   "mimetype": "text/x-python",
   "name": "python",
   "nbconvert_exporter": "python",
   "pygments_lexer": "ipython3",
   "version": "3.12.8"
  }
 },
 "nbformat": 4,
 "nbformat_minor": 2
}
